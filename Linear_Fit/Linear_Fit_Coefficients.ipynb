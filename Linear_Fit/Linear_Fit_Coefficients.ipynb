{
 "cells": [
  {
   "cell_type": "markdown",
   "metadata": {},
   "source": [
    "# Coefficients"
   ]
  },
  {
   "cell_type": "markdown",
   "metadata": {},
   "source": [
    "This method is based on my linear algebra textbook. You essentially find the coefficients for either the linear or quadratic equation. For a linear equation. $\\bar{y} = X\\bar{\\beta}$ where $\\bar{\\beta} = \\begin{bmatrix}\n",
    "\\beta_{0} \\\\\n",
    "\\beta_{1} \\\\\n",
    "\\end{bmatrix}$ or  $y = \\beta_{0} + \\beta_{1}x$. \n",
    "\n",
    "For quadratic,  $\\bar{y} = X\\bar{\\beta} + \\bar{\\epsilon}$ or $y_{n} = \\beta_{0} + \\beta_{1}x_{n} + \\beta_{2}x^{2}_{n} + \\epsilon_{n}$ where $\\bar{\\epsilon}$ is residual vector which is the difference between the observed y and predicted y.\n",
    "\n",
    "\n",
    "To find $\\bar{\\beta}$, use the normal equation of $X\\bar{\\beta} = \\bar{y}$ which is $X^{T}X\\bar{\\beta} = X^T\\bar{y}$. I broke down the process as follows:\n",
    "<ol>\n",
    "    <li>$X^{T}X$</li>\n",
    "    <li>$X^T\\bar{y}$</li>\n",
    "    <li>$\\bar{\\beta} = [X^{T}X]^{-1}X^T\\bar{y}$</li>\n",
    "</ol>"
   ]
  },
  {
   "cell_type": "code",
   "execution_count": null,
   "metadata": {},
   "outputs": [],
   "source": [
    "xtmatrix = np.dot(xmatrix.T,xmatrix) #Step 1\n",
    "xtmatrix_quad = np.dot(xmatrix_quad.T,xmatrix_quad) #quadratic version of Step 1\n",
    "\n",
    "ytmatrix = np.dot(xmatrix.T, ypoints) #Step 2\n",
    "ytmatrix_quad = np.dot(xmatrix_quad.T, ypoints) #quadratic version of Step 2\n",
    "\n",
    "coeff = np.dot(np.linalg.inv(xtmatrix), ytmatrix) #Step 3\n",
    "coeff_quad = np.dot(np.linalg.inv(xtmatrix_quad), ytmatrix_quad) #quadratic version of Step 3\n",
    "\n",
    "print(coeff_quad)"
   ]
  },
  {
   "cell_type": "markdown",
   "metadata": {},
   "source": [
    "Using the coefficients found earlier, substitute it into the respective equations: $\\bar{y} = X\\bar{\\beta}$ or $\\bar{y} = X\\bar{\\beta} + \\bar{\\epsilon}$. Then, plot the graphs."
   ]
  },
  {
   "cell_type": "code",
   "execution_count": null,
   "metadata": {},
   "outputs": [],
   "source": [
    "def linear(arr, x):\n",
    "    b = arr[0]\n",
    "    m = arr[1]\n",
    "    y = m*x + b\n",
    "    p1 = plt.plot(x, y, label = \"linear (textbook)\")\n",
    "    print('Textbook linear equation: y =',m,'x +',b)\n",
    "    return p1\n",
    "    \n",
    "# def residual(arr,x): #determining residual vector\n",
    "#     res = []\n",
    "#     a = arr[0]\n",
    "#     b = arr[1]\n",
    "#     c = arr[2]\n",
    "#     y = a*(x**2) + b*x + c\n",
    "#     for n in np.arange(ypoints.size):\n",
    "#         res.append(ypoints[n] - y[n])\n",
    "#     return res\n",
    "    \n",
    "def quad(arr, x, y):\n",
    "    res = []\n",
    "    a = arr[0]\n",
    "    b = arr[1]\n",
    "    c = arr[2]\n",
    "    y = a*(x**2) + b*x + c \n",
    "    for n in np.arange(ypoints.size): \n",
    "        res.append(ypoints[n] - y[n]) #difference between observed y and predicted y\n",
    "    y += res\n",
    "    p2 = plt.plot(x,y, label = \"quadratic (textbook)\")\n",
    "    print('Textbook quadratic equation: y =',a,'x^2 +',b,'x +', c)\n",
    "    return p2\n",
    "\n",
    "def quad2(arr, x, y):\n",
    "    a = arr[0]\n",
    "    b = arr[1]\n",
    "    c = arr[2]\n",
    "    y = a*(x**2) + (b*x) + c \n",
    "    p2 = plt.plot(x,y)\n",
    "    return p2"
   ]
  }
 ],
 "metadata": {
  "kernelspec": {
   "display_name": "Python 3",
   "language": "python",
   "name": "python3"
  },
  "language_info": {
   "codemirror_mode": {
    "name": "ipython",
    "version": 3
   },
   "file_extension": ".py",
   "mimetype": "text/x-python",
   "name": "python",
   "nbconvert_exporter": "python",
   "pygments_lexer": "ipython3",
   "version": "3.7.6"
  }
 },
 "nbformat": 4,
 "nbformat_minor": 4
}
